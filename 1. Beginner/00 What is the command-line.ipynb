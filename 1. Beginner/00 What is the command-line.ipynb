{
 "cells": [
  {
   "cell_type": "markdown",
   "metadata": {},
   "source": [
    "# Command-line interface"
   ]
  },
  {
   "cell_type": "markdown",
   "metadata": {},
   "source": [
    "## What is the command line?"
   ]
  },
  {
   "cell_type": "markdown",
   "metadata": {},
   "source": [
    "The window, which is usually called the *command line* or *command-line interface*, is a text-based application for viewing, handling, and manipulating files on your computer. It's much like Windows Explorer or Finder on the Mac, but without the graphical interface. Other names for the command line are: cmd, CLI, prompt, console or terminal."
   ]
  },
  {
   "cell_type": "markdown",
   "metadata": {},
   "source": [
    "## Open the command-line interface"
   ]
  },
  {
   "cell_type": "markdown",
   "metadata": {},
   "source": [
    "To start some experiments we need to open our command-line interface first.\n",
    "\n",
    "*Windows*\n",
    "\n",
    "Go to Start menu → Windows System → Command Prompt.\n",
    "\n",
    "*macOS*\n",
    "\n",
    "Go to Applications → Utilities → Terminal.\n",
    "\n",
    "*Linux*\n",
    "\n",
    "It's probably under Applications → Accessories → Terminal, but that may depend on your system. If it's not there, just Google it. :)\n",
    "\n",
    "\n",
    "You now should see a white or black window that is waiting for your commands!"
   ]
  },
  {
   "cell_type": "markdown",
   "metadata": {},
   "source": [
    "## Basics"
   ]
  },
  {
   "cell_type": "markdown",
   "metadata": {},
   "source": [
    "Type this command `whoami` and hit `enter` and you will see your computer name as result!\n",
    "\n",
    "Other commands you can use are\n",
    "\n",
    "### Current directory\n",
    "\n",
    "You can use the command `pwd`, or `cd` if you are on Windows, to see in what directory you are. The first time you open the command-line you usually start at your user's home directory\n",
    "\n",
    "### List files and directories\n",
    "\n",
    "If you want to see what's inside the directory you are, you can use `ls`, or `dir` if you are on Windows, to see what is inside\n",
    "\n",
    "```\n",
    "$ ls\n",
    "Applications\n",
    "Desktop\n",
    "Downloads\n",
    "Music\n",
    "```\n",
    "\n",
    "### Change current directory\n",
    "\n",
    "To move around your computer in the command-line you can use the command `cd`, both on Windows ad MacOS, and use `pwd`, or `dir` on Windows\n",
    "\n",
    "```\n",
    "$ cd Desktop\n",
    "$ pwd\n",
    "\n",
    "C:\\Users\\<your-name>\\Desktop\n",
    "```\n",
    "\n",
    "### Create or delete directory\n",
    "\n",
    "You can create a new directory using `mkdir`.\n",
    "\n",
    "Go to the desktop using `cd` and then type `mkdir example`.\n",
    "\n",
    "This command will create a folder with the name *example* on your desktop. You can check if it's there just by looking on your Desktop or by running a `ls` or `dir` command"
   ]
  },
  {
   "cell_type": "markdown",
   "metadata": {},
   "source": [
    "## Exit"
   ]
  },
  {
   "cell_type": "markdown",
   "metadata": {},
   "source": [
    "You can close the command-line typing `exit`"
   ]
  }
 ],
 "metadata": {
  "kernelspec": {
   "display_name": "Python 3",
   "language": "python",
   "name": "python3"
  },
  "language_info": {
   "codemirror_mode": {
    "name": "ipython",
    "version": 3
   },
   "file_extension": ".py",
   "mimetype": "text/x-python",
   "name": "python",
   "nbconvert_exporter": "python",
   "pygments_lexer": "ipython3",
   "version": "3.6.0"
  }
 },
 "nbformat": 4,
 "nbformat_minor": 2
}
